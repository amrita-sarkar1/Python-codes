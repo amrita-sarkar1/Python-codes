{
  "nbformat": 4,
  "nbformat_minor": 0,
  "metadata": {
    "colab": {
      "provenance": [],
      "authorship_tag": "ABX9TyNX9EQbyDdu8S5cV2oihvMU",
      "include_colab_link": true
    },
    "kernelspec": {
      "name": "python3",
      "display_name": "Python 3"
    },
    "language_info": {
      "name": "python"
    }
  },
  "cells": [
    {
      "cell_type": "markdown",
      "metadata": {
        "id": "view-in-github",
        "colab_type": "text"
      },
      "source": [
        "<a href=\"https://colab.research.google.com/github/amrita-sarkar1/Python-codes/blob/main/Calculus_with_Python.ipynb\" target=\"_parent\"><img src=\"https://colab.research.google.com/assets/colab-badge.svg\" alt=\"Open In Colab\"/></a>"
      ]
    },
    {
      "cell_type": "markdown",
      "source": [
        "## ***Introduction:***\n",
        "\n",
        "---\n",
        "\n",
        "\n",
        "###Calculus is a branch of **mathematics** focused on **limits**, **functions**, **derivatives**, **integrals**, and **infinite series**. We will use **SymPy** library to do calculus with python. SymPy is a Python library for symbolic mathematics. It aims to become a full-featured computer algebra system (CAS) while keeping the code as simple as possible in order to be comprehensible and easily extensible. SymPy is written entirely in Python."
      ],
      "metadata": {
        "id": "NdtlisP6Z4GY"
      }
    },
    {
      "cell_type": "code",
      "execution_count": 1,
      "metadata": {
        "colab": {
          "base_uri": "https://localhost:8080/"
        },
        "id": "9n96ovgJZsxr",
        "outputId": "2cb71db9-5d32-44e9-fd10-8bc0159393ea"
      },
      "outputs": [
        {
          "output_type": "stream",
          "name": "stdout",
          "text": [
            "Looking in indexes: https://pypi.org/simple, https://us-python.pkg.dev/colab-wheels/public/simple/\n",
            "Requirement already satisfied: sympy in /usr/local/lib/python3.7/dist-packages (1.7.1)\n",
            "Requirement already satisfied: mpmath>=0.19 in /usr/local/lib/python3.7/dist-packages (from sympy) (1.2.1)\n"
          ]
        }
      ],
      "source": [
        "# Installation\n",
        "!pip install sympy"
      ]
    },
    {
      "cell_type": "markdown",
      "source": [
        "### $sympy.Symbol()$: \n",
        "It is used to declare a single variable by passing the variable as a string into its parameter.\n",
        "### $sympy.symbols()$: \n",
        "It is used to declare multivariable by passing the variables as a string into its parameter. All the variables must be separated by a space forming a string."
      ],
      "metadata": {
        "id": "CDuvOZcXbBTN"
      }
    },
    {
      "cell_type": "markdown",
      "source": [
        "### ***Differentiation***\n",
        "\n",
        "---\n",
        "\n",
        "\n",
        "\n",
        "We can differentiate any sympy expression by using $diff(func, var)$ method. The parameter $func$ denotes the sympy expression to be **differentiated** and $var$ denotes the variable with respect to which we have to **differentiate**.\n",
        "\n",
        "We can also find higher derivatives using the $diff(func, var, n)$ method. Here, the parameter $n$ denotes the nth derivative to be found."
      ],
      "metadata": {
        "id": "-hh8y22rbw9A"
      }
    },
    {
      "cell_type": "markdown",
      "source": [
        "\n",
        "\n",
        "\n",
        "NOTE: \n",
        "1. \"*\" denotes multiplication.\n",
        "2. \"**\" denotes power.\n",
        "3. \"∞\" in SymPy is oo."
      ],
      "metadata": {
        "id": "_Y1_LP2GcXUb"
      }
    },
    {
      "cell_type": "markdown",
      "source": [
        "$exp = x^{3}y + y^{3} + xz^{4}$"
      ],
      "metadata": {
        "id": "K4L1yKHkkxis"
      }
    },
    {
      "cell_type": "code",
      "source": [
        "# Importing library\n",
        "import sympy as sym\n",
        " \n",
        "# Declaring variables\n",
        "x, y, z = sym.symbols('x y z')\n",
        " \n",
        "# expression of which we have to find derivative\n",
        "exp = x**3 * y + y**3 + x * z**4\n",
        "\n",
        "# Differentiating exp with respect to x\n",
        "derivative1_x = sym.diff(exp, x)\n",
        "print('derivative w.r.t x: ',\n",
        "      derivative1_x)\n",
        " \n",
        "# Differentiating exp with respect to y\n",
        "derivative1_y = sym.diff(exp, y)\n",
        "print('derivative w.r.t y: ',\n",
        "      derivative1_y)\n",
        "\n",
        "# Differentiating exp with respect to z\n",
        "derivative1_y = sym.diff(exp, z)\n",
        "print('derivative w.r.t z: ',\n",
        "      derivative1_y)"
      ],
      "metadata": {
        "colab": {
          "base_uri": "https://localhost:8080/"
        },
        "id": "PdYdGWO-a2Fv",
        "outputId": "72001272-e55b-4143-dc66-c33871acd011"
      },
      "execution_count": 2,
      "outputs": [
        {
          "output_type": "stream",
          "name": "stdout",
          "text": [
            "derivative w.r.t x:  3*x**2*y + z**4\n",
            "derivative w.r.t y:  x**3 + 3*y**2\n",
            "derivative w.r.t z:  4*x*z**3\n"
          ]
        }
      ]
    },
    {
      "cell_type": "markdown",
      "source": [
        "$f = xy + x^{2} + sin(2y)$"
      ],
      "metadata": {
        "id": "erBvw4j9kiKo"
      }
    },
    {
      "cell_type": "code",
      "source": [
        "# Creating Equation\n",
        "f = x * y + x ** 2 + sym.sin(2 * y)\n",
        "\n",
        "# Differentiating f with respect to x\n",
        "df_dx = sym.diff(f, x)\n",
        "print(\"The derivative of f(x,y) wrt x is: \" + str(df_dx))\n",
        "\n",
        "# Differentiating f with respect to y\n",
        "df_dy = sym.diff(f, y)\n",
        "print(\"The derivative of f(x,y) wrt y is: \" + str(df_dy))"
      ],
      "metadata": {
        "colab": {
          "base_uri": "https://localhost:8080/"
        },
        "id": "scBInVzmjrL_",
        "outputId": "a80ab36d-b2ce-4a4d-865c-2cda614cb4ad"
      },
      "execution_count": 3,
      "outputs": [
        {
          "output_type": "stream",
          "name": "stdout",
          "text": [
            "The derivative of f(x,y) wrt x is: 2*x + y\n",
            "The derivative of f(x,y) wrt y is: x + 2*cos(2*y)\n"
          ]
        }
      ]
    },
    {
      "cell_type": "code",
      "source": [
        "# Finding second derivative\n",
        "# of exp with respect to x\n",
        "derivative2_x = sym.diff(exp, x, 2)\n",
        "print('second derivative w.r.t. x: ',\n",
        "      derivative2_x)\n",
        " \n",
        "# Finding second derivative\n",
        "# of exp with respect to y\n",
        "derivative2_y = sym.diff(exp, y, 2)\n",
        "print('second derivative w.r.t. y: ',\n",
        "      derivative2_y)\n",
        "\n",
        "# Finding second derivative\n",
        "# of exp with respect to z\n",
        "derivative2_z = sym.diff(exp, z, 2)\n",
        "print('second derivative w.r.t. z: ',\n",
        "      derivative2_z)"
      ],
      "metadata": {
        "colab": {
          "base_uri": "https://localhost:8080/"
        },
        "id": "9MCvvtnhcNZi",
        "outputId": "addf94d8-75c8-4aa9-ea35-8ba501cb6653"
      },
      "execution_count": 4,
      "outputs": [
        {
          "output_type": "stream",
          "name": "stdout",
          "text": [
            "second derivative w.r.t. x:  6*x*y\n",
            "second derivative w.r.t. y:  6*y\n",
            "second derivative w.r.t. z:  12*x*z**2\n"
          ]
        }
      ]
    },
    {
      "cell_type": "markdown",
      "source": [
        "### ***Integration***\n",
        "\n",
        "---\n",
        "\n",
        "\n",
        "We can do indefinite and definite integration of transcendental elementary and special functions via $integrate()$ function. \n",
        "\n",
        "Syntax for indefinite integration: $sympy.integrate(func, var)$\n",
        "\n",
        "\n",
        "Syntax for definite integration: $sympy.integrate(func, (var,  lower_limit, upper_limit))$\n",
        "\n",
        "The parameter $func$ denotes the sympy expression to be **integrated**, $var$ denotes the variable with respect to which we have to **integrate**, $lower_limit$ denotes to the lower limit of the definite integration and $upper_limit$ denotes the upper limit of the definite integration."
      ],
      "metadata": {
        "id": "616pN8NXdnt5"
      }
    },
    {
      "cell_type": "code",
      "source": [
        "# Indefinite integration of cos(x) w.r.t. dx\n",
        "integral1 = sym.integrate(sym.cos(x), x)\n",
        "print('indefinite integral of cos(x): ',\n",
        "      integral1)\n",
        " \n",
        "# definite integration of cos(x) w.r.t. dx between -1 to 1\n",
        "integral2 = sym.integrate(sym.cos(x), (x, -1, 1))\n",
        "print('definite integral of cos(x) between -1 to 1: ',\n",
        "      integral2)\n",
        " \n",
        "# definite integration of exp(-x) w.r.t. dx between 0 to ∞\n",
        "integral3 = sym.integrate(sym.exp(-x), (x, 0, sym.oo))\n",
        "print('definite integral of exp(-x) between 0 to ∞: ',\n",
        "      integral3)"
      ],
      "metadata": {
        "colab": {
          "base_uri": "https://localhost:8080/"
        },
        "id": "TuRHroiidP_0",
        "outputId": "5dac60be-f6ea-464a-aee7-eb11f1d8292e"
      },
      "execution_count": 5,
      "outputs": [
        {
          "output_type": "stream",
          "name": "stdout",
          "text": [
            "indefinite integral of cos(x):  sin(x)\n",
            "definite integral of cos(x) between -1 to 1:  2*sin(1)\n",
            "definite integral of exp(-x) between 0 to ∞:  1\n"
          ]
        }
      ]
    },
    {
      "cell_type": "markdown",
      "source": [
        "### ***Limits***\n",
        "\n",
        "---\n",
        "\n",
        "\n",
        "We can calculate limit of a function by using $limit(function, variable, point)$. So, if we want to compute the limit of $f(x)$ as  $x->0$, we would issue $limit(f, x, 0)$."
      ],
      "metadata": {
        "id": "yTRqDaSHe0uG"
      }
    },
    {
      "cell_type": "code",
      "source": [
        "# Calculating limit of f(x) = x as x->∞\n",
        "limit1 = sym.limit(x, x, sym.oo)\n",
        "print(limit1)\n",
        " \n",
        "# Calculating limit of f(x) = 1/x as x->∞\n",
        "limit2 = sym.limit(1/x, x, sym.oo)\n",
        "print(limit2)\n",
        " \n",
        "# Calculating limit of f(x) = sin(x)/x as x->0\n",
        "limit3 = sym.limit(sym.sin(x)/x, x, 0)\n",
        "print(limit3)"
      ],
      "metadata": {
        "colab": {
          "base_uri": "https://localhost:8080/"
        },
        "id": "PgSoARnVeos8",
        "outputId": "9bf60cbe-14a4-403b-b83a-7cfd518c2419"
      },
      "execution_count": 6,
      "outputs": [
        {
          "output_type": "stream",
          "name": "stdout",
          "text": [
            "oo\n",
            "0\n",
            "1\n"
          ]
        }
      ]
    },
    {
      "cell_type": "markdown",
      "source": [
        "### ***Series Expansion***\n",
        "\n",
        "---\n",
        "\n",
        "\n",
        "We can also compute **Taylor series** expansions of functions around a point. To compute the expansion of **$f(x)$** around the point $x=x_{0}$ terms of order $x_{n}$, use $sympy.series(f, x, x_{0}, n)$. $x_{0}$ and $n$ can be omitted, in which case the defaults $x_{0}=0$ and $n=6$ will be used."
      ],
      "metadata": {
        "id": "vpPN66eJfexu"
      }
    },
    {
      "cell_type": "code",
      "source": [
        "# assign series\n",
        "series1 = sym.series(sym.cos(x), x)\n",
        "print(series1)\n",
        " \n",
        "# assign series\n",
        "series2 = sym.series(1/sym.cos(x), x, 0, 4)\n",
        "print(series2)"
      ],
      "metadata": {
        "colab": {
          "base_uri": "https://localhost:8080/"
        },
        "id": "PqVt-SfXfMHZ",
        "outputId": "2bec8635-67b2-421e-fd14-7c36ac9840fd"
      },
      "execution_count": 7,
      "outputs": [
        {
          "output_type": "stream",
          "name": "stdout",
          "text": [
            "1 - x**2/2 + x**4/24 + O(x**6)\n",
            "1 + x**2/2 + O(x**4)\n"
          ]
        }
      ]
    },
    {
      "cell_type": "markdown",
      "source": [
        "NOTE:\n",
        "\n",
        "The $O(x_{4})$ or $O(x_{6})$ term at the end means that all $x$ terms with a power greater than or equal to $x_{4}$ or $x_{6}$ are omitted."
      ],
      "metadata": {
        "id": "kC85Fnhti8H-"
      }
    }
  ]
}
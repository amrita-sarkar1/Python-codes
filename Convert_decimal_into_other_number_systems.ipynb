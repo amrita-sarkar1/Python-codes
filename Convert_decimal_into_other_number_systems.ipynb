{
  "nbformat": 4,
  "nbformat_minor": 0,
  "metadata": {
    "colab": {
      "provenance": [],
      "authorship_tag": "ABX9TyMJqNk10n1vna8cAj8VZD3z",
      "include_colab_link": true
    },
    "kernelspec": {
      "name": "python3",
      "display_name": "Python 3"
    },
    "language_info": {
      "name": "python"
    }
  },
  "cells": [
    {
      "cell_type": "markdown",
      "metadata": {
        "id": "view-in-github",
        "colab_type": "text"
      },
      "source": [
        "<a href=\"https://colab.research.google.com/github/amrita-sarkar1/Python-codes/blob/main/Convert_decimal_into_other_number_systems.ipynb\" target=\"_parent\"><img src=\"https://colab.research.google.com/assets/colab-badge.svg\" alt=\"Open In Colab\"/></a>"
      ]
    },
    {
      "cell_type": "code",
      "execution_count": 1,
      "metadata": {
        "colab": {
          "base_uri": "https://localhost:8080/"
        },
        "id": "H0tQjGQkeJ_V",
        "outputId": "353ef4cd-e682-40ea-b6eb-7759d4772832"
      },
      "outputs": [
        {
          "output_type": "stream",
          "name": "stdout",
          "text": [
            "Enter a Decimal Number: 789\n",
            "0b1100010101 in Binary.\n",
            "0o1425 in Octal.\n",
            "0x315 in Hexadecimal.\n"
          ]
        }
      ],
      "source": [
        "# Python program to convert decimal into other number systems\n",
        "\n",
        "dec = int(input(\"Enter a Decimal Number: \"))\n",
        "\n",
        "\n",
        "#decimal to binary\n",
        "\n",
        "print(bin(dec), \"in Binary.\")\n",
        "\n",
        "#decimal to octal\n",
        "\n",
        "print(oct(dec), \"in Octal.\")\n",
        "\n",
        "#decimal to Hexadecimal\n",
        "\n",
        "print(hex(dec), \"in Hexadecimal.\")"
      ]
    }
  ]
}
{
  "nbformat": 4,
  "nbformat_minor": 0,
  "metadata": {
    "colab": {
      "provenance": []
    },
    "kernelspec": {
      "name": "python3",
      "display_name": "Python 3"
    },
    "language_info": {
      "name": "python"
    }
  },
  "cells": [
    {
      "cell_type": "markdown",
      "source": [
        "## ***What is a barcode?***\n",
        "\n",
        "---\n",
        "\n",
        "https://www.denso-wave.com/en/adcd/fundamental/barcode/barcode/index.html"
      ],
      "metadata": {
        "id": "9AblYT0aY5tF"
      }
    },
    {
      "cell_type": "code",
      "execution_count": 1,
      "metadata": {
        "colab": {
          "base_uri": "https://localhost:8080/",
          "height": 419
        },
        "id": "Sdh6Hsp9YMkP",
        "outputId": "713c7895-c026-4f51-c468-729720f7865d"
      },
      "outputs": [
        {
          "name": "stdout",
          "output_type": "stream",
          "text": [
            "Looking in indexes: https://pypi.org/simple, https://us-python.pkg.dev/colab-wheels/public/simple/\n",
            "Collecting python-barcode\n",
            "  Downloading python_barcode-0.14.0-py3-none-any.whl (212 kB)\n",
            "\u001b[K     |████████████████████████████████| 212 kB 5.8 MB/s \n",
            "\u001b[?25hInstalling collected packages: python-barcode\n",
            "Successfully installed python-barcode-0.14.0\n",
            "Enter the code to generate barcode : 123456789111\n"
          ]
        },
        {
          "output_type": "execute_result",
          "data": {
            "text/plain": [
              "<PIL.PngImagePlugin.PngImageFile image mode=RGB size=523x280 at 0x7F16AB478350>"
            ],
            "image/png": "[encoded data removed]"
          },
          "metadata": {},
          "execution_count": 1
        }
      ],
      "source": [
        "!pip install python-barcode\n",
        "\n",
        "import barcode\n",
        "from barcode.writer import ImageWriter\n",
        "\n",
        "#Define content of the barcode as a string\n",
        "number = input(\"Enter the code to generate barcode : \")\n",
        "\n",
        "#Get the required barcode format\n",
        "barcode_format = barcode.get_barcode_class('upc')\n",
        "\n",
        "#Generate barcode and render as image\n",
        "my_barcode = barcode_format(number, writer=ImageWriter())\n",
        "\n",
        "#Save barcode as PNG\n",
        "my_barcode.save(\"generated_barcode\")\n",
        "\n",
        "from PIL import Image #to open the barcde and show\n",
        "Image.open('generated_barcode.png')"
      ]
    },
    {
      "cell_type": "code",
      "source": [],
      "metadata": {
        "id": "VwBvoEnIZPCj"
      },
      "execution_count": null,
      "outputs": []
    }
  ]
}
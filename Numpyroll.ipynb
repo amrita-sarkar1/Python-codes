{
  "nbformat": 4,
  "nbformat_minor": 0,
  "metadata": {
    "colab": {
      "provenance": [],
      "authorship_tag": "ABX9TyO37Gixf3MVpLE7nSzIaqty",
      "include_colab_link": true
    },
    "kernelspec": {
      "name": "python3",
      "display_name": "Python 3"
    },
    "language_info": {
      "name": "python"
    }
  },
  "cells": [
    {
      "cell_type": "markdown",
      "metadata": {
        "id": "view-in-github",
        "colab_type": "text"
      },
      "source": [
        "<a href=\"https://colab.research.google.com/github/amrita-sarkar1/Python-codes/blob/main/Numpyroll.ipynb\" target=\"_parent\"><img src=\"https://colab.research.google.com/assets/colab-badge.svg\" alt=\"Open In Colab\"/></a>"
      ]
    },
    {
      "cell_type": "code",
      "execution_count": 1,
      "metadata": {
        "id": "c7g9i5Z8-xAd"
      },
      "outputs": [],
      "source": [
        "# Importing library\n",
        "import numpy as np"
      ]
    },
    {
      "cell_type": "markdown",
      "source": [
        "$numpy.roll$\n",
        "\n",
        "***Syntax:***\n",
        "\n",
        "$numpy.roll(a, shift, axis=None)$\n",
        "\n",
        "***Note:***\n",
        "- Roll array elements along a given axis.\n",
        "\n",
        "- Elements that roll beyond the last position are re-introduced at the first.\n",
        "\n",
        "***Parameters***\n",
        "\n",
        "$a$: *array_like*\n",
        "\n",
        "Input array.\n",
        "\n",
        "$shift$: int or tuple of ints\n",
        "\n",
        "The number of places by which elements are shifted. If a tuple, then axis must be a tuple of the same size, and each of the given axes is shifted by the corresponding number. If an int while axis is a tuple of ints, then the same value is used for all given axes.\n",
        "\n",
        "$axis$: int or tuple of ints, optional\n",
        "\n",
        "Axis or axes along which elements are shifted. By default, the array is flattened before shifting, after which the original shape is restored.\n",
        "\n",
        "***Returns:***\n",
        "\n",
        "$res$: ndarray\n",
        "\n",
        "Output array, with the same shape as a.\n",
        "\n",
        "\n"
      ],
      "metadata": {
        "id": "Ig3fp-hLOlY8"
      }
    },
    {
      "cell_type": "code",
      "source": [
        "# Defining the array\n",
        "x = np.arange(10)\n",
        "\n",
        "# Visualizing the array\n",
        "print(\"Original Array: \\n\",x)\n",
        "print(\"\\n\")\n",
        "\n",
        "# Applying np.roll\n",
        "y = np.roll(x, 2)\n",
        "\n",
        "# Print the result\n",
        "print(\"Modified Array: \\n\",y)"
      ],
      "metadata": {
        "colab": {
          "base_uri": "https://localhost:8080/"
        },
        "id": "AKr6m9pU--qh",
        "outputId": "b76fe168-301a-450e-b720-01680fe99d6e"
      },
      "execution_count": 2,
      "outputs": [
        {
          "output_type": "stream",
          "name": "stdout",
          "text": [
            "Original Array: \n",
            " [0 1 2 3 4 5 6 7 8 9]\n",
            "\n",
            "\n",
            "Modified Array: \n",
            " [8 9 0 1 2 3 4 5 6 7]\n"
          ]
        }
      ]
    },
    {
      "cell_type": "markdown",
      "source": [
        "*The position of each element is shifted by 2.*"
      ],
      "metadata": {
        "id": "W3x7zpP8Qda5"
      }
    },
    {
      "cell_type": "code",
      "source": [
        "# Defining the array\n",
        "x2 = np.reshape(x, (2, 5))\n",
        "\n",
        "# Visualizing the array\n",
        "print(\"Original Array: \\n\",x2)\n",
        "print(\"\\n\")\n",
        "\n",
        "# Applying np.roll\n",
        "y2 = np.roll(x2, -1, axis=0)\n",
        "\n",
        "# Print the result\n",
        "print(\"Modified Array: \\n\",y2)"
      ],
      "metadata": {
        "colab": {
          "base_uri": "https://localhost:8080/"
        },
        "id": "8RoKK2wuQm45",
        "outputId": "68c79aae-3e2a-44c1-abdf-41669bfdcd92"
      },
      "execution_count": 3,
      "outputs": [
        {
          "output_type": "stream",
          "name": "stdout",
          "text": [
            "Original Array: \n",
            " [[0 1 2 3 4]\n",
            " [5 6 7 8 9]]\n",
            "\n",
            "\n",
            "Modified Array: \n",
            " [[5 6 7 8 9]\n",
            " [0 1 2 3 4]]\n"
          ]
        }
      ]
    },
    {
      "cell_type": "markdown",
      "source": [
        "*The elements of the second row are transported to the first row as $shift = -1$*"
      ],
      "metadata": {
        "id": "eRw9i4o3RIeR"
      }
    }
  ]
}
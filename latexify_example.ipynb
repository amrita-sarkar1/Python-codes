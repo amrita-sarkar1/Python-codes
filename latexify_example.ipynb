{
  "nbformat": 4,
  "nbformat_minor": 0,
  "metadata": {
    "colab": {
      "provenance": [],
      "include_colab_link": true
    },
    "kernelspec": {
      "name": "python3",
      "display_name": "Python 3"
    }
  },
  "cells": [
    {
      "cell_type": "markdown",
      "metadata": {
        "id": "view-in-github",
        "colab_type": "text"
      },
      "source": [
        "<a href=\"https://colab.research.google.com/github/amrita-sarkar1/Python-codes/blob/main/latexify_example.ipynb\" target=\"_parent\"><img src=\"https://colab.research.google.com/assets/colab-badge.svg\" alt=\"Open In Colab\"/></a>"
      ]
    },
    {
      "cell_type": "code",
      "metadata": {
        "id": "4IPGyu2dFH6T",
        "colab": {
          "base_uri": "https://localhost:8080/"
        },
        "outputId": "021c0406-cd94-4440-c0ff-cf6ed4626794"
      },
      "source": [
        "!pip uninstall -y latexify-py\n",
        "!pip install latexify-py"
      ],
      "execution_count": null,
      "outputs": [
        {
          "output_type": "stream",
          "name": "stdout",
          "text": [
            "\u001b[33mWARNING: Skipping latexify-py as it is not installed.\u001b[0m\n",
            "Looking in indexes: https://pypi.org/simple, https://us-python.pkg.dev/colab-wheels/public/simple/\n",
            "Collecting latexify-py\n",
            "  Downloading latexify_py-0.2.0-py3-none-any.whl (22 kB)\n",
            "Requirement already satisfied: dill>=0.3.2 in /usr/local/lib/python3.7/dist-packages (from latexify-py) (0.3.6)\n",
            "Installing collected packages: latexify-py\n",
            "Successfully installed latexify-py-0.2.0\n"
          ]
        }
      ]
    },
    {
      "cell_type": "code",
      "metadata": {
        "id": "hViDMhyMFNCO"
      },
      "source": [
        "# Before running following cells, restart the runtime so that the installed\n",
        "# module is activated.\n",
        "import math\n",
        "import latexify"
      ],
      "execution_count": null,
      "outputs": []
    },
    {
      "cell_type": "code",
      "metadata": {
        "id": "NvbEYSwXFaeE",
        "colab": {
          "base_uri": "https://localhost:8080/",
          "height": 108
        },
        "outputId": "63930eca-ef1a-4e3c-8a0a-d7e219baba83"
      },
      "source": [
        "@latexify.with_latex\n",
        "def solve(a, b, c):\n",
        "  return (-b + math.sqrt(b**2 - 4*a*c)) / (2*a)\n",
        "\n",
        "print(solve(1, 4, 3))\n",
        "print(solve)\n",
        "print()\n",
        "solve"
      ],
      "execution_count": null,
      "outputs": [
        {
          "output_type": "stream",
          "name": "stdout",
          "text": [
            "-1.0\n",
            "\\mathrm{solve}(a, b, c) = \\frac{-b + \\sqrt{b^{{2}} - {4} a c}}{{2} a}\n",
            "\n"
          ]
        },
        {
          "output_type": "execute_result",
          "data": {
            "text/plain": [
              "<latexify.frontend.LatexifiedFunction at 0x7f613beb74d0>"
            ],
            "text/latex": "$$ \\displaystyle \\mathrm{solve}(a, b, c) = \\frac{-b + \\sqrt{b^{{2}} - {4} a c}}{{2} a} $$"
          },
          "metadata": {},
          "execution_count": 3
        }
      ]
    },
    {
      "cell_type": "code",
      "metadata": {
        "id": "8bYSWIngGF8E",
        "colab": {
          "base_uri": "https://localhost:8080/",
          "height": 61
        },
        "outputId": "b4097f20-f4aa-45b9-cd2c-0acb8948af55"
      },
      "source": [
        "@latexify.with_latex\n",
        "def sinc(x):\n",
        "  if x == 0:\n",
        "    return 1\n",
        "  else:\n",
        "    return math.sin(x) / x\n",
        "\n",
        "sinc"
      ],
      "execution_count": null,
      "outputs": [
        {
          "output_type": "execute_result",
          "data": {
            "text/plain": [
              "<latexify.frontend.LatexifiedFunction at 0x7f613beb7410>"
            ],
            "text/latex": "$$ \\displaystyle \\mathrm{sinc}(x) = \\left\\{ \\begin{array}{ll} {1}, & \\mathrm{if} \\ {x = {0}} \\\\ \\frac{\\sin{\\left({x}\\right)}}{x}, & \\mathrm{otherwise} \\end{array} \\right. $$"
          },
          "metadata": {},
          "execution_count": 4
        }
      ]
    },
    {
      "cell_type": "code",
      "metadata": {
        "id": "h1i4BjdgHjxl",
        "colab": {
          "base_uri": "https://localhost:8080/",
          "height": 78
        },
        "outputId": "b3893ed5-a62b-4452-d6ff-43037d480ff2"
      },
      "source": [
        "# Elif or nested else-if are unrolled.\n",
        "@latexify.with_latex\n",
        "def fib(x):\n",
        "  if x == 0:\n",
        "    return 1\n",
        "  elif x == 1:\n",
        "    return 1\n",
        "  else:\n",
        "    return fib(x-1) + fib(x-2)\n",
        "\n",
        "fib"
      ],
      "execution_count": null,
      "outputs": [
        {
          "output_type": "execute_result",
          "data": {
            "text/plain": [
              "<latexify.frontend.LatexifiedFunction at 0x7f613bebe410>"
            ],
            "text/latex": "$$ \\displaystyle \\mathrm{fib}(x) = \\left\\{ \\begin{array}{ll} {1}, & \\mathrm{if} \\ {x = {0}} \\\\ {1}, & \\mathrm{if} \\ {x = {1}} \\\\ \\mathrm{fib}\\left(x - {1}\\right) + \\mathrm{fib}\\left(x - {2}\\right), & \\mathrm{otherwise} \\end{array} \\right. $$"
          },
          "metadata": {},
          "execution_count": 5
        }
      ]
    },
    {
      "cell_type": "code",
      "metadata": {
        "id": "-JhJMAXM7j-X",
        "colab": {
          "base_uri": "https://localhost:8080/",
          "height": 38
        },
        "outputId": "72f99945-be2c-4a32-fe32-36ca4ad66ba0"
      },
      "source": [
        "# Some math symbols are converted automatically.\n",
        "@latexify.with_latex\n",
        "def greek(alpha, beta, gamma, Omega):\n",
        "  return alpha * beta + math.gamma(gamma) + Omega\n",
        "\n",
        "greek"
      ],
      "execution_count": null,
      "outputs": [
        {
          "output_type": "execute_result",
          "data": {
            "text/plain": [
              "<latexify.frontend.LatexifiedFunction at 0x7f613bebe890>"
            ],
            "text/latex": "$$ \\displaystyle \\mathrm{greek}(alpha, beta, gamma, Omega) = alpha beta + \\Gamma\\left({gamma}\\right) + Omega $$"
          },
          "metadata": {},
          "execution_count": 6
        }
      ]
    }
  ]
}